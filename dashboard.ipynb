{
 "cells": [
  {
   "cell_type": "code",
   "execution_count": null,
   "metadata": {},
   "outputs": [],
   "source": [
    "import utils.data\n",
    "import utils.opt\n",
    "import utils.viz\n",
    "import ipywidgets as widgets"
   ]
  },
  {
   "cell_type": "markdown",
   "metadata": {},
   "source": [
    "## Pintxo route finder for EuroSciPy 2019"
   ]
  },
  {
   "cell_type": "code",
   "execution_count": null,
   "metadata": {},
   "outputs": [],
   "source": [
    "data = utils.data.load()\n",
    "#print(len(data))\n",
    "#print(data)"
   ]
  },
  {
   "cell_type": "code",
   "execution_count": null,
   "metadata": {},
   "outputs": [],
   "source": [
    "#print(\"Select a number of restaurants: \")"
   ]
  },
  {
   "cell_type": "code",
   "execution_count": null,
   "metadata": {},
   "outputs": [],
   "source": [
    "def map_with_route(*args):\n",
    "    dests = data.copy()\n",
    "    start = dests.pop([i for i, dest in enumerate(dests) if dest[\"name\"] == start_box.value][0])\n",
    "    end = dests.pop([i for i, dest in enumerate(dests) if dest[\"name\"] == end_box.value][0])\n",
    "    route = utils.opt.shortest_N_stop_route(start, end, dests, int_slider.value)\n",
    "    out.clear_output()\n",
    "    with out:\n",
    "        map_ = utils.viz.make_and_save_map(data=data, route=route)\n",
    "        display(map_)"
   ]
  },
  {
   "cell_type": "code",
   "execution_count": null,
   "metadata": {
    "scrolled": false
   },
   "outputs": [],
   "source": [
    "text = widgets.FloatText(disabled=True, description='$Selected: $')\n",
    "text.disabled\n",
    "\n",
    "int_slider = widgets.IntSlider(\n",
    "    value=3,\n",
    "    min=1,\n",
    "    max=10,\n",
    "    step=1,\n",
    "    description=\"Number of stops:\",\n",
    "    disabled=False,\n",
    "    continuous_update=False,\n",
    "    orientation='horizontal',\n",
    "    readout=True,\n",
    "    readout_format='d',\n",
    "    style={'description_width': 'initial'}\n",
    ")\n",
    "\n",
    "number = widgets.Output()\n",
    "\n",
    "def get_number(*ignore):\n",
    "    text.value =  str(int_slider.value)\n",
    "    \n",
    "int_slider.value = 5\n",
    "\n",
    "int_slider.observe(get_number, 'value')\n",
    "\n",
    "start_box = widgets.Dropdown(\n",
    "    options = [d[\"name\"] for d in data],\n",
    "    description = \"Start location:\",\n",
    "    style={'description_width': 'initial'})\n",
    "\n",
    "end_box = widgets.Dropdown(\n",
    "    options = [d[\"name\"] for d in data],\n",
    "    description = \"End location:\",\n",
    "    style={'description_width': 'initial'})\n",
    "\n",
    "button = widgets.Button(description=\"Find route\")\n",
    "button.on_click(map_with_route)\n",
    "out = widgets.Output()\n",
    "\n",
    "with out:\n",
    "    map_ = utils.viz.make_and_save_map(data=data, route=[])\n",
    "    display(map_)\n",
    "    \n",
    "display(widgets.VBox([start_box, end_box, int_slider, button, out]))"
   ]
  }
 ],
 "metadata": {
  "kernelspec": {
   "display_name": "Python 3",
   "language": "python",
   "name": "python3"
  },
  "language_info": {
   "codemirror_mode": {
    "name": "ipython",
    "version": 3
   },
   "file_extension": ".py",
   "mimetype": "text/x-python",
   "name": "python",
   "nbconvert_exporter": "python",
   "pygments_lexer": "ipython3",
   "version": "3.7.4"
  }
 },
 "nbformat": 4,
 "nbformat_minor": 2
}
